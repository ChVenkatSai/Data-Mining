{
  "nbformat": 4,
  "nbformat_minor": 0,
  "metadata": {
    "colab": {
      "provenance": []
    },
    "kernelspec": {
      "name": "python3",
      "display_name": "Python 3"
    },
    "language_info": {
      "name": "python"
    }
  },
  "cells": [
    {
      "cell_type": "code",
      "execution_count": 16,
      "metadata": {
        "id": "ujJvOd4eHitA"
      },
      "outputs": [],
      "source": [
        "import pandas as pd\n",
        "import numpy as np\n",
        "import matplotlib.pyplot as plt\n",
        "from keras.datasets import mnist\n",
        "from sklearn.preprocessing import StandardScaler\n",
        "from sklearn.naive_bayes import GaussianNB"
      ]
    },
    {
      "cell_type": "code",
      "source": [
        "(X_train, y_train), (X_test, y_test ) = mnist.load_data()"
      ],
      "metadata": {
        "id": "hrr62Mys0hvf"
      },
      "execution_count": 17,
      "outputs": []
    },
    {
      "cell_type": "code",
      "source": [
        "#print(X_train[0], y_train[0])\n",
        "#print(X_train.shape[0], X_test.shape)\n",
        "x_train = X_train.reshape(X_train.shape[0], X_train.shape[1]*X_train.shape[2])\n",
        "x_test = X_test.reshape(X_test.shape[0], X_test.shape[1]*X_test.shape[2])\n",
        "#print(x_train[0])\n",
        "scaler = StandardScaler()\n",
        "#x_train = scaler.fit_transform(x_train, y_train)\n",
        "scaler = StandardScaler()\n",
        "#x_test = scaler.fit_transform(x_test, y_test)\n",
        "clf = GaussianNB()\n",
        "clf.fit(x_train, y_train)\n",
        "y_pred = clf.predict(x_test)\n",
        "count = 0\n",
        "for k in range(len(y_pred)):\n",
        "  if y_pred[k] == y_test[k]:\n",
        "    count += 0\n",
        "  else:\n",
        "    count += 1\n",
        "print(f\"The 0-1 error for this is {count}\")\n",
        "print(f\"The accuracy is {(100 - (count*100/len(y_pred))):.2f}\")"
      ],
      "metadata": {
        "colab": {
          "base_uri": "https://localhost:8080/",
          "height": 0
        },
        "id": "SXZkTULp2UBZ",
        "outputId": "7ea64a7b-1397-4143-e261-73037d1cdd68"
      },
      "execution_count": 50,
      "outputs": [
        {
          "output_type": "stream",
          "name": "stdout",
          "text": [
            "The 0-1 error for this is 4442\n",
            "The accuracy is 55.58\n"
          ]
        }
      ]
    },
    {
      "cell_type": "code",
      "source": [
        "scaler = StandardScaler()\n",
        "x_train = scaler.fit_transform(x_train, y_train)\n",
        "scaler = StandardScaler()\n",
        "x_test = scaler.fit_transform(x_test, y_test)"
      ],
      "metadata": {
        "id": "IQUhqaoef2UY"
      },
      "execution_count": 51,
      "outputs": []
    },
    {
      "cell_type": "code",
      "source": [
        "Y_train = {0:[],1:[],2:[],3:[],4:[],5:[],6:[],7:[],8:[],9:[]}\n",
        "Y_test = {0:[],1:[],2:[],3:[],4:[],5:[],6:[],7:[],8:[],9:[]}\n",
        "for k in range(0,10):\n",
        "  Y_train[k] = np.zeros(len(y_train))\n",
        "  Y_test[k] = np.zeros(len(y_test))\n",
        "count = 0\n",
        "for k in (y_train):\n",
        "  Y_train[k][count] = 1\n",
        "  #print(k, Y_train[k][count])\n",
        "  count += 1\n",
        "\n",
        "\n"
      ],
      "metadata": {
        "id": "3fRCTEa3Cut5"
      },
      "execution_count": 31,
      "outputs": []
    },
    {
      "cell_type": "code",
      "source": [
        "from sklearn.linear_model import LogisticRegression\n",
        "x1_train = X_train.reshape(X_train.shape[0], X_train.shape[1]*X_train.shape[2])\n",
        "x1_test = X_test.reshape(X_test.shape[0], X_test.shape[1]*X_test.shape[2])\n",
        "scaler = StandardScaler()\n",
        "x3_train = scaler.fit_transform(x1_train, Y_train[3])\n",
        "clf = LogisticRegression(random_state=0,solver='lbfgs', max_iter=1000).fit(x3_train, Y_train[3])"
      ],
      "metadata": {
        "id": "bkDRVthkIybc"
      },
      "execution_count": 34,
      "outputs": []
    },
    {
      "cell_type": "code",
      "source": [
        "from sklearn.linear_model import LogisticRegression\n",
        "logistic = {0:LogisticRegression(random_state=0,solver='lbfgs', max_iter=1000),1:LogisticRegression(random_state=0,solver='lbfgs', max_iter=1000),2:LogisticRegression(random_state=0,solver='lbfgs', max_iter=1000),3:LogisticRegression(random_state=0,solver='lbfgs', max_iter=1000),4:LogisticRegression(random_state=0,solver='lbfgs', max_iter=1000),5:LogisticRegression(random_state=0,solver='lbfgs', max_iter=1000),6:LogisticRegression(random_state=0,solver='lbfgs', max_iter=1000),7:LogisticRegression(random_state=0,solver='lbfgs', max_iter=1000),8:LogisticRegression(random_state=0,solver='lbfgs', max_iter=1000),9:LogisticRegression(random_state=0,solver='lbfgs', max_iter=1000)}\n",
        "for k in range(0,10):\n",
        "  logistic[k].fit(x_train, Y_train[k])\n"
      ],
      "metadata": {
        "id": "nYDcbAAvF6Ul"
      },
      "execution_count": 35,
      "outputs": []
    },
    {
      "cell_type": "markdown",
      "source": [
        "While predicting the the class, each model has a probaility associated with it. Whichever model has the highest probability for a datapoint, the corresponding class is used for it. "
      ],
      "metadata": {
        "id": "3GS4gHrZgBte"
      }
    },
    {
      "cell_type": "code",
      "source": [
        "y_predic = []\n",
        "#print(logistic[0].decision_function(x_test))\n",
        "Dec_fun = {0:logistic[0].decision_function(x_test),1:logistic[1].decision_function(x_test),2:logistic[2].decision_function(x_test),3:logistic[3].decision_function(x_test),4:logistic[4].decision_function(x_test),5:logistic[5].decision_function(x_test),6:logistic[6].decision_function(x_test),7:logistic[7].decision_function(x_test),8:logistic[8].decision_function(x_test),9:logistic[9].decision_function(x_test)}\n",
        "for k in range(len(y_test)):\n",
        "  max = Dec_fun[0][k]\n",
        "  num = 0\n",
        "  for i in range(1,10):\n",
        "    if Dec_fun[i][k] > max:\n",
        "      max = Dec_fun[i][k]\n",
        "      num = i\n",
        "  y_predic.append(num)"
      ],
      "metadata": {
        "id": "qsAZsI_rQfo0"
      },
      "execution_count": 44,
      "outputs": []
    },
    {
      "cell_type": "code",
      "source": [
        "count = 0\n",
        "for k in range(len(y_pred)):\n",
        "  if y_predic[k] == y_test[k]:\n",
        "    count += 0\n",
        "  else:\n",
        "    count += 1\n",
        "print(f\"The 0-1 error for this is {count}\")\n",
        "print(f\"The accuracy is {100 - ((count*100/len(y_predic))):.2f}\")"
      ],
      "metadata": {
        "colab": {
          "base_uri": "https://localhost:8080/",
          "height": 0
        },
        "id": "ESZfY7Dea1H7",
        "outputId": "71b9f23c-34f2-4e25-b9d6-0dc07382e5f9"
      },
      "execution_count": 49,
      "outputs": [
        {
          "output_type": "stream",
          "name": "stdout",
          "text": [
            "The 0-1 error for this is 825\n",
            "The accuracy is 91.75\n"
          ]
        }
      ]
    }
  ]
}