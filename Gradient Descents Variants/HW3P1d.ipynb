{
  "nbformat": 4,
  "nbformat_minor": 0,
  "metadata": {
    "colab": {
      "provenance": [],
      "collapsed_sections": []
    },
    "kernelspec": {
      "name": "python3",
      "display_name": "Python 3"
    },
    "language_info": {
      "name": "python"
    }
  },
  "cells": [
    {
      "cell_type": "code",
      "execution_count": null,
      "metadata": {
        "id": "N2lfsVumqiXf"
      },
      "outputs": [],
      "source": [
        "import numpy as np\n",
        "import pandas as pd\n",
        "import math\n",
        "import matplotlib.pyplot as plt\n",
        "from sklearn.preprocessing import StandardScaler"
      ]
    },
    {
      "cell_type": "code",
      "source": [
        "from google.colab import drive\n",
        "drive.mount('/content/drive')"
      ],
      "metadata": {
        "colab": {
          "base_uri": "https://localhost:8080/"
        },
        "id": "8bq9aDzyq94a",
        "outputId": "b4a771b8-2bcd-4b2b-a0a1-a8b511d92c93"
      },
      "execution_count": null,
      "outputs": [
        {
          "output_type": "stream",
          "name": "stdout",
          "text": [
            "Mounted at /content/drive\n"
          ]
        }
      ]
    },
    {
      "cell_type": "code",
      "source": [
        "df = pd.read_csv(\"/content/drive/MyDrive/Datasets/aps_failure_training_set.csv\", skiprows=20)"
      ],
      "metadata": {
        "id": "uIaD15Zjrja2"
      },
      "execution_count": null,
      "outputs": []
    },
    {
      "cell_type": "code",
      "source": [
        "df.head()"
      ],
      "metadata": {
        "colab": {
          "base_uri": "https://localhost:8080/",
          "height": 299
        },
        "id": "DoQE4b90s6aI",
        "outputId": "6dd13599-af3f-4043-98ad-e03b94cd5f2d"
      },
      "execution_count": null,
      "outputs": [
        {
          "output_type": "execute_result",
          "data": {
            "text/plain": [
              "  class  aa_000 ab_000      ac_000 ad_000 ae_000 af_000 ag_000 ag_001 ag_002  \\\n",
              "0   neg   76698     na  2130706438    280      0      0      0      0      0   \n",
              "1   neg   33058     na           0     na      0      0      0      0      0   \n",
              "2   neg   41040     na         228    100      0      0      0      0      0   \n",
              "3   neg      12      0          70     66      0     10      0      0      0   \n",
              "4   neg   60874     na        1368    458      0      0      0      0      0   \n",
              "\n",
              "   ...   ee_002  ee_003  ee_004  ee_005  ee_006  ee_007  ee_008 ee_009 ef_000  \\\n",
              "0  ...  1240520  493384  721044  469792  339156  157956   73224      0      0   \n",
              "1  ...   421400  178064  293306  245416  133654   81140   97576   1500      0   \n",
              "2  ...   277378  159812  423992  409564  320746  158022   95128    514      0   \n",
              "3  ...      240      46      58      44      10       0       0      0      4   \n",
              "4  ...   622012  229790  405298  347188  286954  311560  433954   1218      0   \n",
              "\n",
              "  eg_000  \n",
              "0      0  \n",
              "1      0  \n",
              "2      0  \n",
              "3     32  \n",
              "4      0  \n",
              "\n",
              "[5 rows x 171 columns]"
            ],
            "text/html": [
              "\n",
              "  <div id=\"df-10cfa5d2-c320-45cb-84ae-6ebf926a23f0\">\n",
              "    <div class=\"colab-df-container\">\n",
              "      <div>\n",
              "<style scoped>\n",
              "    .dataframe tbody tr th:only-of-type {\n",
              "        vertical-align: middle;\n",
              "    }\n",
              "\n",
              "    .dataframe tbody tr th {\n",
              "        vertical-align: top;\n",
              "    }\n",
              "\n",
              "    .dataframe thead th {\n",
              "        text-align: right;\n",
              "    }\n",
              "</style>\n",
              "<table border=\"1\" class=\"dataframe\">\n",
              "  <thead>\n",
              "    <tr style=\"text-align: right;\">\n",
              "      <th></th>\n",
              "      <th>class</th>\n",
              "      <th>aa_000</th>\n",
              "      <th>ab_000</th>\n",
              "      <th>ac_000</th>\n",
              "      <th>ad_000</th>\n",
              "      <th>ae_000</th>\n",
              "      <th>af_000</th>\n",
              "      <th>ag_000</th>\n",
              "      <th>ag_001</th>\n",
              "      <th>ag_002</th>\n",
              "      <th>...</th>\n",
              "      <th>ee_002</th>\n",
              "      <th>ee_003</th>\n",
              "      <th>ee_004</th>\n",
              "      <th>ee_005</th>\n",
              "      <th>ee_006</th>\n",
              "      <th>ee_007</th>\n",
              "      <th>ee_008</th>\n",
              "      <th>ee_009</th>\n",
              "      <th>ef_000</th>\n",
              "      <th>eg_000</th>\n",
              "    </tr>\n",
              "  </thead>\n",
              "  <tbody>\n",
              "    <tr>\n",
              "      <th>0</th>\n",
              "      <td>neg</td>\n",
              "      <td>76698</td>\n",
              "      <td>na</td>\n",
              "      <td>2130706438</td>\n",
              "      <td>280</td>\n",
              "      <td>0</td>\n",
              "      <td>0</td>\n",
              "      <td>0</td>\n",
              "      <td>0</td>\n",
              "      <td>0</td>\n",
              "      <td>...</td>\n",
              "      <td>1240520</td>\n",
              "      <td>493384</td>\n",
              "      <td>721044</td>\n",
              "      <td>469792</td>\n",
              "      <td>339156</td>\n",
              "      <td>157956</td>\n",
              "      <td>73224</td>\n",
              "      <td>0</td>\n",
              "      <td>0</td>\n",
              "      <td>0</td>\n",
              "    </tr>\n",
              "    <tr>\n",
              "      <th>1</th>\n",
              "      <td>neg</td>\n",
              "      <td>33058</td>\n",
              "      <td>na</td>\n",
              "      <td>0</td>\n",
              "      <td>na</td>\n",
              "      <td>0</td>\n",
              "      <td>0</td>\n",
              "      <td>0</td>\n",
              "      <td>0</td>\n",
              "      <td>0</td>\n",
              "      <td>...</td>\n",
              "      <td>421400</td>\n",
              "      <td>178064</td>\n",
              "      <td>293306</td>\n",
              "      <td>245416</td>\n",
              "      <td>133654</td>\n",
              "      <td>81140</td>\n",
              "      <td>97576</td>\n",
              "      <td>1500</td>\n",
              "      <td>0</td>\n",
              "      <td>0</td>\n",
              "    </tr>\n",
              "    <tr>\n",
              "      <th>2</th>\n",
              "      <td>neg</td>\n",
              "      <td>41040</td>\n",
              "      <td>na</td>\n",
              "      <td>228</td>\n",
              "      <td>100</td>\n",
              "      <td>0</td>\n",
              "      <td>0</td>\n",
              "      <td>0</td>\n",
              "      <td>0</td>\n",
              "      <td>0</td>\n",
              "      <td>...</td>\n",
              "      <td>277378</td>\n",
              "      <td>159812</td>\n",
              "      <td>423992</td>\n",
              "      <td>409564</td>\n",
              "      <td>320746</td>\n",
              "      <td>158022</td>\n",
              "      <td>95128</td>\n",
              "      <td>514</td>\n",
              "      <td>0</td>\n",
              "      <td>0</td>\n",
              "    </tr>\n",
              "    <tr>\n",
              "      <th>3</th>\n",
              "      <td>neg</td>\n",
              "      <td>12</td>\n",
              "      <td>0</td>\n",
              "      <td>70</td>\n",
              "      <td>66</td>\n",
              "      <td>0</td>\n",
              "      <td>10</td>\n",
              "      <td>0</td>\n",
              "      <td>0</td>\n",
              "      <td>0</td>\n",
              "      <td>...</td>\n",
              "      <td>240</td>\n",
              "      <td>46</td>\n",
              "      <td>58</td>\n",
              "      <td>44</td>\n",
              "      <td>10</td>\n",
              "      <td>0</td>\n",
              "      <td>0</td>\n",
              "      <td>0</td>\n",
              "      <td>4</td>\n",
              "      <td>32</td>\n",
              "    </tr>\n",
              "    <tr>\n",
              "      <th>4</th>\n",
              "      <td>neg</td>\n",
              "      <td>60874</td>\n",
              "      <td>na</td>\n",
              "      <td>1368</td>\n",
              "      <td>458</td>\n",
              "      <td>0</td>\n",
              "      <td>0</td>\n",
              "      <td>0</td>\n",
              "      <td>0</td>\n",
              "      <td>0</td>\n",
              "      <td>...</td>\n",
              "      <td>622012</td>\n",
              "      <td>229790</td>\n",
              "      <td>405298</td>\n",
              "      <td>347188</td>\n",
              "      <td>286954</td>\n",
              "      <td>311560</td>\n",
              "      <td>433954</td>\n",
              "      <td>1218</td>\n",
              "      <td>0</td>\n",
              "      <td>0</td>\n",
              "    </tr>\n",
              "  </tbody>\n",
              "</table>\n",
              "<p>5 rows × 171 columns</p>\n",
              "</div>\n",
              "      <button class=\"colab-df-convert\" onclick=\"convertToInteractive('df-10cfa5d2-c320-45cb-84ae-6ebf926a23f0')\"\n",
              "              title=\"Convert this dataframe to an interactive table.\"\n",
              "              style=\"display:none;\">\n",
              "        \n",
              "  <svg xmlns=\"http://www.w3.org/2000/svg\" height=\"24px\"viewBox=\"0 0 24 24\"\n",
              "       width=\"24px\">\n",
              "    <path d=\"M0 0h24v24H0V0z\" fill=\"none\"/>\n",
              "    <path d=\"M18.56 5.44l.94 2.06.94-2.06 2.06-.94-2.06-.94-.94-2.06-.94 2.06-2.06.94zm-11 1L8.5 8.5l.94-2.06 2.06-.94-2.06-.94L8.5 2.5l-.94 2.06-2.06.94zm10 10l.94 2.06.94-2.06 2.06-.94-2.06-.94-.94-2.06-.94 2.06-2.06.94z\"/><path d=\"M17.41 7.96l-1.37-1.37c-.4-.4-.92-.59-1.43-.59-.52 0-1.04.2-1.43.59L10.3 9.45l-7.72 7.72c-.78.78-.78 2.05 0 2.83L4 21.41c.39.39.9.59 1.41.59.51 0 1.02-.2 1.41-.59l7.78-7.78 2.81-2.81c.8-.78.8-2.07 0-2.86zM5.41 20L4 18.59l7.72-7.72 1.47 1.35L5.41 20z\"/>\n",
              "  </svg>\n",
              "      </button>\n",
              "      \n",
              "  <style>\n",
              "    .colab-df-container {\n",
              "      display:flex;\n",
              "      flex-wrap:wrap;\n",
              "      gap: 12px;\n",
              "    }\n",
              "\n",
              "    .colab-df-convert {\n",
              "      background-color: #E8F0FE;\n",
              "      border: none;\n",
              "      border-radius: 50%;\n",
              "      cursor: pointer;\n",
              "      display: none;\n",
              "      fill: #1967D2;\n",
              "      height: 32px;\n",
              "      padding: 0 0 0 0;\n",
              "      width: 32px;\n",
              "    }\n",
              "\n",
              "    .colab-df-convert:hover {\n",
              "      background-color: #E2EBFA;\n",
              "      box-shadow: 0px 1px 2px rgba(60, 64, 67, 0.3), 0px 1px 3px 1px rgba(60, 64, 67, 0.15);\n",
              "      fill: #174EA6;\n",
              "    }\n",
              "\n",
              "    [theme=dark] .colab-df-convert {\n",
              "      background-color: #3B4455;\n",
              "      fill: #D2E3FC;\n",
              "    }\n",
              "\n",
              "    [theme=dark] .colab-df-convert:hover {\n",
              "      background-color: #434B5C;\n",
              "      box-shadow: 0px 1px 3px 1px rgba(0, 0, 0, 0.15);\n",
              "      filter: drop-shadow(0px 1px 2px rgba(0, 0, 0, 0.3));\n",
              "      fill: #FFFFFF;\n",
              "    }\n",
              "  </style>\n",
              "\n",
              "      <script>\n",
              "        const buttonEl =\n",
              "          document.querySelector('#df-10cfa5d2-c320-45cb-84ae-6ebf926a23f0 button.colab-df-convert');\n",
              "        buttonEl.style.display =\n",
              "          google.colab.kernel.accessAllowed ? 'block' : 'none';\n",
              "\n",
              "        async function convertToInteractive(key) {\n",
              "          const element = document.querySelector('#df-10cfa5d2-c320-45cb-84ae-6ebf926a23f0');\n",
              "          const dataTable =\n",
              "            await google.colab.kernel.invokeFunction('convertToInteractive',\n",
              "                                                     [key], {});\n",
              "          if (!dataTable) return;\n",
              "\n",
              "          const docLinkHtml = 'Like what you see? Visit the ' +\n",
              "            '<a target=\"_blank\" href=https://colab.research.google.com/notebooks/data_table.ipynb>data table notebook</a>'\n",
              "            + ' to learn more about interactive tables.';\n",
              "          element.innerHTML = '';\n",
              "          dataTable['output_type'] = 'display_data';\n",
              "          await google.colab.output.renderOutput(dataTable, element);\n",
              "          const docLink = document.createElement('div');\n",
              "          docLink.innerHTML = docLinkHtml;\n",
              "          element.appendChild(docLink);\n",
              "        }\n",
              "      </script>\n",
              "    </div>\n",
              "  </div>\n",
              "  "
            ]
          },
          "metadata": {},
          "execution_count": 4
        }
      ]
    },
    {
      "cell_type": "code",
      "source": [],
      "metadata": {
        "id": "HR9kCE-COaep"
      },
      "execution_count": null,
      "outputs": []
    },
    {
      "cell_type": "code",
      "source": [
        "def sigmoid(x):\n",
        "  return 1 / (1 + np.exp(-x))\n",
        "\n",
        "def cost(X,Y,theta,lamb):\n",
        "  e = 1e-10 \n",
        "  m = X.shape[0]\n",
        "  h = sigmoid((X@theta))\n",
        "  #print(h)\n",
        "  cost = ((-Y.T @ np.log(h+e))-((1-Y.T) @ np.log(1-h+e)))/m + lamb*((theta.T @ theta))\n",
        "  return cost\n",
        "\n",
        "def gradient_descent(X,Y,learn_rate,theta,lamb):\n",
        "  m = X.shape[0]\n",
        "  h = sigmoid((X@theta))\n",
        "  grad = (X.T @ (h-Y))/m\n",
        "  regular = 2*theta\n",
        "  theta = theta-learn_rate*(grad+lamb*regular)\n",
        "  return theta\n",
        "\n",
        "def gradient_newton(X,Y,learn_rate,theta,lamb):\n",
        "  m = X.shape[0]\n",
        "  h = sigmoid((X@theta))\n",
        "  grad = (X.T @ (h-Y))/m\n",
        "  #print(h @ (1-h))\n",
        "  print(h.shape)\n",
        "  H = np.multiply(h,1-h)\n",
        "  print(H.shape)\n",
        "  #D = np.diag(H)\n",
        "  h = X.T @ H\n",
        "  Hess = h @ X\n",
        "  m = Hess.shape[0]\n",
        "  Hess = Hess + lamb*(np.identity(m))\n",
        "  #inv = np.linalg.inv(Hess)\n",
        "  regular = 2*theta\n",
        "  theta = theta-(np.linalg.solve(Hess, grad+lamb*regular))\n",
        "  return theta\n"
      ],
      "metadata": {
        "id": "vWx8b7vOuTWE"
      },
      "execution_count": null,
      "outputs": []
    },
    {
      "cell_type": "code",
      "source": [
        "#print(df.shape)\n",
        "df.replace(to_replace= 'na', value = 0, inplace=True )\n",
        "cond = (df['class'] == 'neg')\n",
        "df.loc[cond,'class'] = 0\n",
        "cond = (df['class'] == 'pos')\n",
        "df.loc[cond,'class'] = 1\n",
        "Y = df['class']\n",
        "X = df.iloc[0:,1:]\n",
        "ones = []\n",
        "for k in range(X.shape[0]):\n",
        "  ones.append([1])\n",
        "\n",
        "scaler = StandardScaler()\n",
        "X = scaler.fit_transform(X)\n",
        "X = np.append(X,ones,axis=1)\n",
        "#print(scaler.mean_)\n",
        "\n",
        "#print(Y)\n",
        "print(X)"
      ],
      "metadata": {
        "colab": {
          "base_uri": "https://localhost:8080/"
        },
        "id": "EIeMLb3c-L46",
        "outputId": "d586d4a1-9daa-4607-fce7-feaa837615b9"
      },
      "execution_count": null,
      "outputs": [
        {
          "output_type": "stream",
          "name": "stdout",
          "text": [
            "[[ 0.11938141 -0.0963075   2.31022415 ... -0.02025676 -0.02353972\n",
            "   1.        ]\n",
            " [-0.18069661 -0.0963075  -0.43285893 ... -0.02025676 -0.02353972\n",
            "   1.        ]\n",
            " [-0.12581066 -0.0963075  -0.43285864 ... -0.02025676 -0.02353972\n",
            "   1.        ]\n",
            " ...\n",
            " [-0.40724039 -0.0963075   2.31022414 ... -0.02025676 -0.02353972\n",
            "   1.        ]\n",
            " [ 0.14409453 -0.0963075   2.31022414 ... -0.02025676 -0.02353972\n",
            "   1.        ]\n",
            " [-0.13143541 -0.0963075  -0.43285803 ... -0.02025676 -0.02353972\n",
            "   1.        ]]\n"
          ]
        }
      ]
    },
    {
      "cell_type": "code",
      "source": [
        "A = X.T @ X\n",
        "print(A.shape)\n",
        "learn,v = (np.linalg.eig(A))\n",
        "#print((learn))\n",
        "learn_rate = X.shape[0]/(max(learn))\n",
        "print(1/learn_rate)\n",
        "print(learn_rate)"
      ],
      "metadata": {
        "colab": {
          "base_uri": "https://localhost:8080/"
        },
        "id": "M0xKZg8HOqiy",
        "outputId": "f434b212-d824-4d47-e82c-aee8271ad9dc"
      },
      "execution_count": null,
      "outputs": [
        {
          "output_type": "stream",
          "name": "stdout",
          "text": [
            "(171, 171)\n",
            "48.48910719646376\n",
            "0.020623188543115276\n"
          ]
        }
      ]
    },
    {
      "cell_type": "code",
      "source": [
        "learn_rateg = X.shape[0]/(max(learn)+2*0.1)\n",
        "print(learn_rateg)"
      ],
      "metadata": {
        "colab": {
          "base_uri": "https://localhost:8080/"
        },
        "id": "abypPSW3_tLO",
        "outputId": "0437f2c5-edd5-4a32-9dce-3c77aba31c2a"
      },
      "execution_count": 78,
      "outputs": [
        {
          "output_type": "stream",
          "name": "stdout",
          "text": [
            "0.020623187125395685\n"
          ]
        }
      ]
    },
    {
      "cell_type": "code",
      "source": [
        "learn_rate_g = X.shape[0]/(max(learn)+2*100)\n",
        "print(learn_rate_g)"
      ],
      "metadata": {
        "colab": {
          "base_uri": "https://localhost:8080/"
        },
        "id": "OlaULSdpAJ8-",
        "outputId": "497a8fd8-b809-4fbe-b80b-ec8c9fc43043"
      },
      "execution_count": 79,
      "outputs": [
        {
          "output_type": "stream",
          "name": "stdout",
          "text": [
            "0.020621770920882628\n"
          ]
        }
      ]
    },
    {
      "cell_type": "code",
      "source": [
        "print(X.shape)"
      ],
      "metadata": {
        "colab": {
          "base_uri": "https://localhost:8080/"
        },
        "id": "ZLmRgn3DSfBr",
        "outputId": "97c7ea9e-e121-48d7-8fb5-1d678423d99e"
      },
      "execution_count": null,
      "outputs": [
        {
          "output_type": "stream",
          "name": "stdout",
          "text": [
            "(60000, 171)\n"
          ]
        }
      ]
    },
    {
      "cell_type": "code",
      "source": [
        "x=X"
      ],
      "metadata": {
        "id": "GdzUr2gISpKM"
      },
      "execution_count": null,
      "outputs": []
    },
    {
      "cell_type": "code",
      "source": [
        "#theta = np.zeros(X.shape[1])\n",
        "#print(theta)\n",
        "\n",
        "\n",
        "#x = X.to_numpy(dtype=float)\n",
        "#print(x.shape)\n",
        "\n",
        "#print(y)\n",
        "#x = 9np.asarray(X)\n",
        "#l = (sigmoid(np.matmul(x,theta))-y)\n",
        "#print(np.matmul(x.T, l))\n",
        "#print(y.shape)\n",
        "#ones = np.ones(t.shape[0]) \n",
        "#x = np.hstack([ones, t]) \n",
        "#print(x)\n",
        "def cost_iter(x,y,theta,lamb,alph):\n",
        "  n_iter = 1000\n",
        "  func = []\n",
        "  iter = []\n",
        "  for k in range(n_iter):\n",
        "    iter.append(k)\n",
        "    func.append(cost(x,y,theta,lamb))\n",
        "    #print(cost(x,y,theta,lamb))\n",
        "    #print(theta)\n",
        "    theta_o = theta\n",
        "    theta = gradient_descent(x,y,alph,theta,lamb)\n",
        "    #print(theta)\n",
        "    #print(cost(x,y,theta,lamb))\n",
        "    if abs(cost(x,y,theta_o,lamb)-cost(x,y,theta,lamb)) < 0.0001:\n",
        "      #print(breakg)\n",
        "      break\n",
        "  return iter,func\n",
        "\n",
        "#plt.plot(iter,func)"
      ],
      "metadata": {
        "id": "QDzlwxa3AahI"
      },
      "execution_count": null,
      "outputs": []
    },
    {
      "cell_type": "code",
      "source": [
        "theta = np.zeros(X.shape[1])\n",
        "y = Y.to_numpy(dtype=float)\n",
        "print(y)"
      ],
      "metadata": {
        "id": "OlKr3SuD0vaX",
        "colab": {
          "base_uri": "https://localhost:8080/"
        },
        "outputId": "033613d7-a7a5-452a-f927-bc9ee965870e"
      },
      "execution_count": null,
      "outputs": [
        {
          "output_type": "stream",
          "name": "stdout",
          "text": [
            "[0. 0. 0. ... 0. 0. 0.]\n"
          ]
        }
      ]
    },
    {
      "cell_type": "code",
      "source": [
        "fig1 = plt.figure()\n",
        "iterate_1, funct_value_1 = cost_iter(x,y,theta,0,learn_rate)\n",
        "plt.plot(iterate_1, funct_value_1,'.')\n",
        "plt.xlabel(\"No. of iterations\")\n",
        "plt.ylabel(\"Function value\")\n",
        "plt.legend(\"f\")"
      ],
      "metadata": {
        "colab": {
          "base_uri": "https://localhost:8080/",
          "height": 296
        },
        "id": "9IdHJIx3SmiD",
        "outputId": "95519a11-d0dd-440d-b04b-8842c5559d90"
      },
      "execution_count": null,
      "outputs": [
        {
          "output_type": "execute_result",
          "data": {
            "text/plain": [
              "<matplotlib.legend.Legend at 0x7f8aca156490>"
            ]
          },
          "metadata": {},
          "execution_count": 30
        },
        {
          "output_type": "display_data",
          "data": {
            "text/plain": [
              "<Figure size 432x288 with 1 Axes>"
            ],
            "image/png": "[encoded data removed]"
          },
          "metadata": {
            "needs_background": "light"
          }
        }
      ]
    },
    {
      "cell_type": "code",
      "source": [],
      "metadata": {
        "id": "hF1Dr5Mo-09J"
      },
      "execution_count": null,
      "outputs": []
    },
    {
      "cell_type": "code",
      "source": [
        "gfig1 = plt.figure()\n",
        "theta = np.zeros(X.shape[1])\n",
        "iterate_g1, funct_value_g1 = cost_iter(x,y,theta,0.01,learn_rateg)\n",
        "plt.plot(iterate_g1, funct_value_g1, '.')\n",
        "plt.xlabel(\"No. of iterations\")\n",
        "plt.ylabel(\"Function value\")\n",
        "plt.legend(\"g(,0.01)\")"
      ],
      "metadata": {
        "colab": {
          "base_uri": "https://localhost:8080/",
          "height": 296
        },
        "id": "dLol61Fs2huZ",
        "outputId": "36b1e6c1-01d9-4dc0-cf05-cf602f7927ea"
      },
      "execution_count": 80,
      "outputs": [
        {
          "output_type": "execute_result",
          "data": {
            "text/plain": [
              "<matplotlib.legend.Legend at 0x7f8aca86bfd0>"
            ]
          },
          "metadata": {},
          "execution_count": 80
        },
        {
          "output_type": "display_data",
          "data": {
            "text/plain": [
              "<Figure size 432x288 with 1 Axes>"
            ],
            "image/png": "[encoded data removed]"
          },
          "metadata": {
            "needs_background": "light"
          }
        }
      ]
    },
    {
      "cell_type": "code",
      "source": [
        "g_fig1 = plt.figure()\n",
        "theta = np.zeros(X.shape[1])\n",
        "iterate_g_1, funct_value_g_1 = cost_iter(x,y,theta,100,learn_rate_g)\n",
        "plt.plot(iterate_g_1, funct_value_g_1,'.')\n",
        "plt.xlabel(\"No. of iterations\")\n",
        "plt.ylabel(\"Function value\")\n",
        "plt.legend(\"g(,100)\")"
      ],
      "metadata": {
        "colab": {
          "base_uri": "https://localhost:8080/",
          "height": 585
        },
        "id": "Lw03w4v23C2e",
        "outputId": "4ec5f339-2618-4cdf-d993-36f107efcd58"
      },
      "execution_count": 81,
      "outputs": [
        {
          "output_type": "stream",
          "name": "stderr",
          "text": [
            "/usr/local/lib/python3.7/dist-packages/ipykernel_launcher.py:2: RuntimeWarning: overflow encountered in exp\n",
            "  \n",
            "/usr/local/lib/python3.7/dist-packages/ipykernel_launcher.py:9: RuntimeWarning: overflow encountered in double_scalars\n",
            "  if __name__ == '__main__':\n",
            "/usr/local/lib/python3.7/dist-packages/ipykernel_launcher.py:29: RuntimeWarning: invalid value encountered in double_scalars\n",
            "/usr/local/lib/python3.7/dist-packages/ipykernel_launcher.py:9: RuntimeWarning: overflow encountered in matmul\n",
            "  if __name__ == '__main__':\n",
            "/usr/local/lib/python3.7/dist-packages/ipykernel_launcher.py:7: RuntimeWarning: overflow encountered in matmul\n",
            "  import sys\n",
            "/usr/local/lib/python3.7/dist-packages/ipykernel_launcher.py:14: RuntimeWarning: overflow encountered in matmul\n",
            "  \n",
            "/usr/local/lib/python3.7/dist-packages/ipykernel_launcher.py:17: RuntimeWarning: overflow encountered in multiply\n",
            "/usr/local/lib/python3.7/dist-packages/ipykernel_launcher.py:7: RuntimeWarning: invalid value encountered in matmul\n",
            "  import sys\n",
            "/usr/local/lib/python3.7/dist-packages/ipykernel_launcher.py:14: RuntimeWarning: invalid value encountered in matmul\n",
            "  \n"
          ]
        },
        {
          "output_type": "execute_result",
          "data": {
            "text/plain": [
              "<matplotlib.legend.Legend at 0x7f8aca6c0510>"
            ]
          },
          "metadata": {},
          "execution_count": 81
        },
        {
          "output_type": "display_data",
          "data": {
            "text/plain": [
              "<Figure size 432x288 with 1 Axes>"
            ],
            "image/png": "[encoded data removed]"
          },
          "metadata": {
            "needs_background": "light"
          }
        }
      ]
    },
    {
      "cell_type": "code",
      "source": [
        "\n",
        "(fig1,gfig1)"
      ],
      "metadata": {
        "colab": {
          "base_uri": "https://localhost:8080/"
        },
        "id": "TkShDUAx_ffl",
        "outputId": "f421d012-0984-4ba0-cd0b-5083f8ca54c6"
      },
      "execution_count": null,
      "outputs": [
        {
          "output_type": "execute_result",
          "data": {
            "text/plain": [
              "(<Figure size 432x288 with 1 Axes>, <Figure size 432x288 with 1 Axes>)"
            ]
          },
          "metadata": {},
          "execution_count": 33
        }
      ]
    },
    {
      "cell_type": "code",
      "source": [
        "def cst_iter(x,y,theta,lamb,alph):\n",
        "  n_iter = 1000\n",
        "  func = []\n",
        "  iter = []\n",
        "  for k in range(n_iter):\n",
        "    iter.append(k)\n",
        "    func.append(cost(x,y,theta,lamb))\n",
        "    #print(theta)\n",
        "    theta_o = theta\n",
        "    theta = gradient_descent(x,y,alph/(np.sqrt(k+1)),theta,lamb)\n",
        "    #print(theta)\n",
        "    if abs(cost(x,y,theta_o,lamb)-cost(x,y,theta,lamb)) < 0.0001:\n",
        "      #print(breakg)\n",
        "      break\n",
        "  return iter,func"
      ],
      "metadata": {
        "id": "EG3S4BDT3C33"
      },
      "execution_count": 76,
      "outputs": []
    },
    {
      "cell_type": "code",
      "source": [
        "#print(x)"
      ],
      "metadata": {
        "id": "Oe3ujqHwTARL"
      },
      "execution_count": null,
      "outputs": []
    },
    {
      "cell_type": "code",
      "source": [
        "theta = np.zeros(X.shape[1])\n",
        "iterate_2, funct_value_2 = cst_iter(x,y,theta,0,1)\n",
        "plt.plot(iterate_2, funct_value_2,'.')\n",
        "plt.xlabel(\"No. of iterations\")\n",
        "plt.ylabel(\"Function value\")\n",
        "plt.legend(\"f\")"
      ],
      "metadata": {
        "colab": {
          "base_uri": "https://localhost:8080/",
          "height": 296
        },
        "id": "Gq-eWdW24Tx3",
        "outputId": "d14cdc51-5b32-4ac1-f587-f852f9608bd1"
      },
      "execution_count": 77,
      "outputs": [
        {
          "output_type": "execute_result",
          "data": {
            "text/plain": [
              "<matplotlib.legend.Legend at 0x7f8aca8613d0>"
            ]
          },
          "metadata": {},
          "execution_count": 77
        },
        {
          "output_type": "display_data",
          "data": {
            "text/plain": [
              "<Figure size 432x288 with 1 Axes>"
            ],
            "image/png": "[encoded data removed]"
          },
          "metadata": {
            "needs_background": "light"
          }
        }
      ]
    },
    {
      "cell_type": "code",
      "source": [
        "theta = np.zeros(X.shape[1])\n",
        "iterate_g2, funct_value_g2 = cst_iter(x,y,theta,0.01,1)\n",
        "plt.plot(iterate_g2, funct_value_g2,'.')\n",
        "plt.xlabel(\"No. of iterations\")\n",
        "plt.ylabel(\"Function value\")\n",
        "plt.legend(\"g(,0.01)\")"
      ],
      "metadata": {
        "colab": {
          "base_uri": "https://localhost:8080/",
          "height": 296
        },
        "id": "HkkSED8z_dEx",
        "outputId": "fa0ccf30-d739-4f3f-c8d9-2b2cec79a657"
      },
      "execution_count": null,
      "outputs": [
        {
          "output_type": "execute_result",
          "data": {
            "text/plain": [
              "<matplotlib.legend.Legend at 0x7f8ac9e95810>"
            ]
          },
          "metadata": {},
          "execution_count": 37
        },
        {
          "output_type": "display_data",
          "data": {
            "text/plain": [
              "<Figure size 432x288 with 1 Axes>"
            ],
            "image/png": "[encoded data removed]"
          },
          "metadata": {
            "needs_background": "light"
          }
        }
      ]
    },
    {
      "cell_type": "code",
      "source": [
        "theta = np.zeros(X.shape[1])\n",
        "iterate_g_2, funct_value_g_2 = cst_iter(x,y,theta,100,1)\n",
        "plt.plot(iterate_g_2, funct_value_g_2,'.')\n",
        "plt.xlabel(\"No. of iterations\")\n",
        "plt.ylabel(\"Function value\")\n",
        "plt.legend(\"g(,0.01)\")"
      ],
      "metadata": {
        "colab": {
          "base_uri": "https://localhost:8080/",
          "height": 602
        },
        "id": "u5c_H2SD_vpB",
        "outputId": "3fee919a-bf4b-4168-bc49-8774202e8908"
      },
      "execution_count": 82,
      "outputs": [
        {
          "output_type": "stream",
          "name": "stderr",
          "text": [
            "/usr/local/lib/python3.7/dist-packages/ipykernel_launcher.py:2: RuntimeWarning: overflow encountered in exp\n",
            "  \n",
            "/usr/local/lib/python3.7/dist-packages/ipykernel_launcher.py:9: RuntimeWarning: overflow encountered in double_scalars\n",
            "  if __name__ == '__main__':\n",
            "/usr/local/lib/python3.7/dist-packages/ipykernel_launcher.py:9: RuntimeWarning: overflow encountered in matmul\n",
            "  if __name__ == '__main__':\n",
            "/usr/local/lib/python3.7/dist-packages/ipykernel_launcher.py:12: RuntimeWarning: invalid value encountered in double_scalars\n",
            "  if sys.path[0] == '':\n",
            "/usr/local/lib/python3.7/dist-packages/ipykernel_launcher.py:7: RuntimeWarning: overflow encountered in matmul\n",
            "  import sys\n",
            "/usr/local/lib/python3.7/dist-packages/ipykernel_launcher.py:14: RuntimeWarning: overflow encountered in matmul\n",
            "  \n",
            "/usr/local/lib/python3.7/dist-packages/ipykernel_launcher.py:17: RuntimeWarning: overflow encountered in multiply\n",
            "/usr/local/lib/python3.7/dist-packages/ipykernel_launcher.py:7: RuntimeWarning: invalid value encountered in matmul\n",
            "  import sys\n",
            "/usr/local/lib/python3.7/dist-packages/ipykernel_launcher.py:14: RuntimeWarning: invalid value encountered in matmul\n",
            "  \n"
          ]
        },
        {
          "output_type": "execute_result",
          "data": {
            "text/plain": [
              "<matplotlib.legend.Legend at 0x7f8aca6dcb10>"
            ]
          },
          "metadata": {},
          "execution_count": 82
        },
        {
          "output_type": "display_data",
          "data": {
            "text/plain": [
              "<Figure size 432x288 with 1 Axes>"
            ],
            "image/png": "[encoded data removed]"
          },
          "metadata": {
            "needs_background": "light"
          }
        }
      ]
    },
    {
      "cell_type": "code",
      "source": [
        "def cist_iter(x,y,theta,lamb,alph):\n",
        "  n_iter = 1000\n",
        "  func = []\n",
        "  iter = []\n",
        "  for k in range(n_iter):\n",
        "    iter.append(k)\n",
        "    func.append(cost(x,y,theta,lamb))\n",
        "    #print(cost(x,y,theta,lamb))\n",
        "    theta_o = theta\n",
        "    theta = gradient_newton(x,y,1,theta,lamb)\n",
        "    #print(cost(x,y,theta,lamb))\n",
        "    if ((cost(x,y,theta_o,lamb)-cost(x,y,theta,lamb))) < 0.0001:\n",
        "      #print(breakg)\n",
        "      break\n",
        "  return iter,func"
      ],
      "metadata": {
        "id": "NKlN_pO4FvNi"
      },
      "execution_count": null,
      "outputs": []
    },
    {
      "cell_type": "code",
      "source": [
        "\n",
        "def gradient_newton(X,Y,learn_rate,theta,lamb):\n",
        "  m = X.shape[0]\n",
        "  h = sigmoid((X@theta))\n",
        "  grad = (X.T @ (h-Y))/m\n",
        "  #print(h @ (1-h))\n",
        "  #print(h.shape)\n",
        "  H = np.multiply(h,1-h)/m\n",
        "  #print(H.shape)\n",
        "  #D = np.diag(H)\n",
        "  q = np.multiply(X.T,H)\n",
        "  #print(h.shape)\n",
        "  Hess = q @ X\n",
        "  n = Hess.shape[0]\n",
        "  Hass = Hess + lamb*(np.identity(n))\n",
        "  #inv = np.linalg.inv(Hess)\n",
        "  regular = 2*theta\n",
        "  theta = theta-(np.linalg.solve(Hass, grad+lamb*regular))\n",
        "  return theta"
      ],
      "metadata": {
        "id": "f8ZLLq385t-m"
      },
      "execution_count": null,
      "outputs": []
    },
    {
      "cell_type": "code",
      "source": [
        "theta = np.zeros(X.shape[1])\n",
        "iterate_3, funct_value_3 = cist_iter(x,y,theta,0,1)\n",
        "plt.plot(iterate_3, funct_value_3,'.')\n",
        "plt.xlabel(\"No. of iterations\")\n",
        "plt.ylabel(\"Function value\")\n",
        "plt.legend(\"f\")"
      ],
      "metadata": {
        "id": "BCo0oCYMAJuv",
        "colab": {
          "base_uri": "https://localhost:8080/",
          "height": 296
        },
        "outputId": "1cc2e0ac-b126-4cee-dc51-c9b6a0d73a7d"
      },
      "execution_count": null,
      "outputs": [
        {
          "output_type": "execute_result",
          "data": {
            "text/plain": [
              "<matplotlib.legend.Legend at 0x7f8ac6ced9d0>"
            ]
          },
          "metadata": {},
          "execution_count": 71
        },
        {
          "output_type": "display_data",
          "data": {
            "text/plain": [
              "<Figure size 432x288 with 1 Axes>"
            ],
            "image/png": "[encoded data removed]"
          },
          "metadata": {
            "needs_background": "light"
          }
        }
      ]
    },
    {
      "cell_type": "code",
      "source": [
        "theta = np.zeros(X.shape[1])\n",
        "iterate_g3, funct_value_g3 = cist_iter(x,y,theta,0.01,1)\n",
        "plt.plot(iterate_g3, funct_value_g3,'.')\n",
        "plt.xlabel(\"No. of iterations\")\n",
        "plt.ylabel(\"Function value\")\n",
        "plt.legend(\"g\")"
      ],
      "metadata": {
        "colab": {
          "base_uri": "https://localhost:8080/",
          "height": 296
        },
        "id": "yNXQXq5Vr0HG",
        "outputId": "cc1c9511-e2ff-410f-ba5f-7bfc60699ad8"
      },
      "execution_count": null,
      "outputs": [
        {
          "output_type": "execute_result",
          "data": {
            "text/plain": [
              "<matplotlib.legend.Legend at 0x7f8aca94c710>"
            ]
          },
          "metadata": {},
          "execution_count": 72
        },
        {
          "output_type": "display_data",
          "data": {
            "text/plain": [
              "<Figure size 432x288 with 1 Axes>"
            ],
            "image/png": "[encoded data removed]"
          },
          "metadata": {
            "needs_background": "light"
          }
        }
      ]
    },
    {
      "cell_type": "code",
      "source": [
        "theta = np.zeros(X.shape[1])\n",
        "iterate_g_3, funct_value_g_3 = cist_iter(x,y,theta,100,1)\n",
        "plt.plot(iterate_g_3, funct_value_g_3,'.')\n",
        "plt.xlabel(\"No. of iterations\")\n",
        "plt.ylabel(\"Function value\")\n",
        "plt.legend(\"g\")"
      ],
      "metadata": {
        "colab": {
          "base_uri": "https://localhost:8080/",
          "height": 296
        },
        "id": "tekxlRsWw8A1",
        "outputId": "53039967-fd8b-4129-c1ec-d807e11dfd6c"
      },
      "execution_count": null,
      "outputs": [
        {
          "output_type": "execute_result",
          "data": {
            "text/plain": [
              "<matplotlib.legend.Legend at 0x7f8aca94f510>"
            ]
          },
          "metadata": {},
          "execution_count": 73
        },
        {
          "output_type": "display_data",
          "data": {
            "text/plain": [
              "<Figure size 432x288 with 1 Axes>"
            ],
            "image/png": "[encoded data removed]"
          },
          "metadata": {
            "needs_background": "light"
          }
        }
      ]
    },
    {
      "cell_type": "code",
      "source": [
        "plt.plot(iterate_1, funct_value_1,'b.',iterate_2, funct_value_2,'r.',iterate_3, funct_value_3,'g.',)\n",
        "#label=['Largest Eigen value','Diminishing Step','Newton'])\n",
        "plt.xlabel(\"No. of iterations\")\n",
        "plt.ylabel(\"Function value\")\n",
        "plt.legend(['Largest Eigen value','Diminishing Step','Newton'])"
      ],
      "metadata": {
        "colab": {
          "base_uri": "https://localhost:8080/",
          "height": 296
        },
        "id": "n51FgO0pBW7A",
        "outputId": "a916390d-f0df-4f95-d654-59e1934ddb48"
      },
      "execution_count": 83,
      "outputs": [
        {
          "output_type": "execute_result",
          "data": {
            "text/plain": [
              "<matplotlib.legend.Legend at 0x7f8aca598e90>"
            ]
          },
          "metadata": {},
          "execution_count": 83
        },
        {
          "output_type": "display_data",
          "data": {
            "text/plain": [
              "<Figure size 432x288 with 1 Axes>"
            ],
            "image/png": "[encoded data removed]"
          },
          "metadata": {
            "needs_background": "light"
          }
        }
      ]
    },
    {
      "cell_type": "code",
      "source": [
        "plt.plot(iterate_g1, funct_value_g1,'b.',iterate_g2, funct_value_g2,'r.',iterate_g3, funct_value_g3,'g.',)\n",
        "#label=['Largest Eigen value','Diminishing Step','Newton'])\n",
        "plt.xlabel(\"No. of iterations\")\n",
        "plt.ylabel(\"Function value\")\n",
        "plt.legend(['Largest Eigen value','Diminishing Step','Newton'])"
      ],
      "metadata": {
        "colab": {
          "base_uri": "https://localhost:8080/",
          "height": 296
        },
        "id": "MDfgynvGsJ0J",
        "outputId": "d87cc15d-e184-4763-8ad5-10fd24016e90"
      },
      "execution_count": 84,
      "outputs": [
        {
          "output_type": "execute_result",
          "data": {
            "text/plain": [
              "<matplotlib.legend.Legend at 0x7f8ac6862ed0>"
            ]
          },
          "metadata": {},
          "execution_count": 84
        },
        {
          "output_type": "display_data",
          "data": {
            "text/plain": [
              "<Figure size 432x288 with 1 Axes>"
            ],
            "image/png": "[encoded data removed]"
          },
          "metadata": {
            "needs_background": "light"
          }
        }
      ]
    },
    {
      "cell_type": "code",
      "source": [
        "plt.plot(iterate_g_1, funct_value_g_1,'b.',iterate_g_2, funct_value_g_2,'r.',iterate_g_3, funct_value_g_3,'g.',)\n",
        "#label=['Largest Eigen value','Diminishing Step','Newton'])\n",
        "plt.xlabel(\"No. of iterations\")\n",
        "plt.ylabel(\"Function value\")\n",
        "plt.legend(['Largest Eigen value','Diminishing Step','Newton'])"
      ],
      "metadata": {
        "id": "zbFcTrBbG-Ek",
        "colab": {
          "base_uri": "https://localhost:8080/",
          "height": 307
        },
        "outputId": "6c7ecc38-dd77-4c57-c360-39effb654d01"
      },
      "execution_count": 85,
      "outputs": [
        {
          "output_type": "execute_result",
          "data": {
            "text/plain": [
              "<matplotlib.legend.Legend at 0x7f8ac68578d0>"
            ]
          },
          "metadata": {},
          "execution_count": 85
        },
        {
          "output_type": "display_data",
          "data": {
            "text/plain": [
              "<Figure size 432x288 with 1 Axes>"
            ],
            "image/png": "[encoded data removed]"
          },
          "metadata": {
            "needs_background": "light"
          }
        }
      ]
    }
  ]
}